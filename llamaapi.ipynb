{
 "cells": [
  {
   "cell_type": "code",
   "execution_count": 2,
   "metadata": {},
   "outputs": [],
   "source": [
    "import requests\n",
    "from bs4 import BeautifulSoup"
   ]
  },
  {
   "cell_type": "code",
   "execution_count": 4,
   "metadata": {},
   "outputs": [],
   "source": [
    "from bs4 import BeautifulSoup\n",
    "import pandas as pd"
   ]
  },
  {
   "cell_type": "code",
   "execution_count": 5,
   "metadata": {},
   "outputs": [],
   "source": [
    "with open('t1.txt', 'r') as file:\n",
    "    html_content = file.read()"
   ]
  },
  {
   "cell_type": "code",
   "execution_count": 14,
   "metadata": {},
   "outputs": [],
   "source": [
    "soup = BeautifulSoup(html_content, 'html.parser')\n",
    "data = []\n",
    "table = soup.find('tbody')"
   ]
  },
  {
   "cell_type": "code",
   "execution_count": 24,
   "metadata": {},
   "outputs": [],
   "source": [
    "for row in table.find_all('tr'):\n",
    "    cols = row.find_all('td')\n",
    "    # Extract data from each column\n",
    "    row_data = [ele.text.strip() for ele in cols]\n",
    "    # Add extra step to extract the link text and href\n",
    "    if len(cols) > 3:\n",
    "        link = cols[3].find('a')\n",
    "        if link:\n",
    "            row_data[3] = link.text.strip()  # Link text\n",
    "            row_data.append(link['href'])  # Link URL\n",
    "    data.append(row_data)\n",
    "\n",
    "# Create DataFrame from extracted data\n",
    "columns = ['Index', 'Empty', 'Code', 'Description', 'Value', 'Link URL']\n",
    "df = pd.DataFrame(data, columns=columns)"
   ]
  },
  {
   "cell_type": "code",
   "execution_count": 25,
   "metadata": {},
   "outputs": [
    {
     "data": {
      "text/html": [
       "<div>\n",
       "<style scoped>\n",
       "    .dataframe tbody tr th:only-of-type {\n",
       "        vertical-align: middle;\n",
       "    }\n",
       "\n",
       "    .dataframe tbody tr th {\n",
       "        vertical-align: top;\n",
       "    }\n",
       "\n",
       "    .dataframe thead th {\n",
       "        text-align: right;\n",
       "    }\n",
       "</style>\n",
       "<table border=\"1\" class=\"dataframe\">\n",
       "  <thead>\n",
       "    <tr style=\"text-align: right;\">\n",
       "      <th></th>\n",
       "      <th>Index</th>\n",
       "      <th>Empty</th>\n",
       "      <th>Code</th>\n",
       "      <th>Description</th>\n",
       "      <th>Value</th>\n",
       "      <th>Link URL</th>\n",
       "    </tr>\n",
       "  </thead>\n",
       "  <tbody>\n",
       "    <tr>\n",
       "      <th>0</th>\n",
       "      <td>1</td>\n",
       "      <td></td>\n",
       "      <td>LKM061</td>\n",
       "      <td>Leukemia, Acute Myeloid</td>\n",
       "      <td>89.11</td>\n",
       "      <td>/card/leukemia_acute_myeloid</td>\n",
       "    </tr>\n",
       "    <tr>\n",
       "      <th>1</th>\n",
       "      <td>2</td>\n",
       "      <td></td>\n",
       "      <td>FNC027</td>\n",
       "      <td>Fanconi Anemia, Complementation Group a</td>\n",
       "      <td>87.43</td>\n",
       "      <td>/card/fanconi_anemia_complementation_group_a</td>\n",
       "    </tr>\n",
       "    <tr>\n",
       "      <th>2</th>\n",
       "      <td>3</td>\n",
       "      <td>P</td>\n",
       "      <td>ATX030</td>\n",
       "      <td>Ataxia-Telangiectasia</td>\n",
       "      <td>86.30</td>\n",
       "      <td>/card/ataxia_telangiectasia_2</td>\n",
       "    </tr>\n",
       "    <tr>\n",
       "      <th>3</th>\n",
       "      <td>4</td>\n",
       "      <td>P</td>\n",
       "      <td>BLD134</td>\n",
       "      <td>Bladder Cancer</td>\n",
       "      <td>85.79</td>\n",
       "      <td>/card/bladder_cancer</td>\n",
       "    </tr>\n",
       "    <tr>\n",
       "      <th>4</th>\n",
       "      <td>5</td>\n",
       "      <td></td>\n",
       "      <td>IMM167</td>\n",
       "      <td>Immune Deficiency Disease</td>\n",
       "      <td>84.19</td>\n",
       "      <td>/card/immune_deficiency_disease</td>\n",
       "    </tr>\n",
       "    <tr>\n",
       "      <th>...</th>\n",
       "      <td>...</td>\n",
       "      <td>...</td>\n",
       "      <td>...</td>\n",
       "      <td>...</td>\n",
       "      <td>...</td>\n",
       "      <td>...</td>\n",
       "    </tr>\n",
       "    <tr>\n",
       "      <th>7255</th>\n",
       "      <td>2416</td>\n",
       "      <td></td>\n",
       "      <td>MCR375</td>\n",
       "      <td>Macrophage or Histiocytic Tumor</td>\n",
       "      <td>2.80</td>\n",
       "      <td>/card/macrophage_or_histiocytic_tumor</td>\n",
       "    </tr>\n",
       "    <tr>\n",
       "      <th>7256</th>\n",
       "      <td>2417</td>\n",
       "      <td></td>\n",
       "      <td>CNS014</td>\n",
       "      <td>Constitutional Deficiency Anemia</td>\n",
       "      <td>2.80</td>\n",
       "      <td>/card/constitutional_deficiency_anemia</td>\n",
       "    </tr>\n",
       "    <tr>\n",
       "      <th>7257</th>\n",
       "      <td>2418</td>\n",
       "      <td></td>\n",
       "      <td>QNT001</td>\n",
       "      <td>Quantitative and/or Qualitative Congenital Pha...</td>\n",
       "      <td>2.80</td>\n",
       "      <td>/card/quantitative_and_or_qualitative_congenit...</td>\n",
       "    </tr>\n",
       "    <tr>\n",
       "      <th>7258</th>\n",
       "      <td>2419</td>\n",
       "      <td></td>\n",
       "      <td>SCK008</td>\n",
       "      <td>Sickle Delta Beta Thalassemia</td>\n",
       "      <td>2.10</td>\n",
       "      <td>/card/sickle_delta_beta_thalassemia</td>\n",
       "    </tr>\n",
       "    <tr>\n",
       "      <th>7259</th>\n",
       "      <td>2420</td>\n",
       "      <td></td>\n",
       "      <td>AMN017</td>\n",
       "      <td>Aminolevulinic Acid Dehydratase Deficiency Por...</td>\n",
       "      <td>2.10</td>\n",
       "      <td>/card/aminolevulinic_acid_dehydratase_deficien...</td>\n",
       "    </tr>\n",
       "  </tbody>\n",
       "</table>\n",
       "<p>7260 rows × 6 columns</p>\n",
       "</div>"
      ],
      "text/plain": [
       "     Index Empty    Code                                        Description  \\\n",
       "0        1        LKM061                            Leukemia, Acute Myeloid   \n",
       "1        2        FNC027            Fanconi Anemia, Complementation Group a   \n",
       "2        3     P  ATX030                              Ataxia-Telangiectasia   \n",
       "3        4     P  BLD134                                     Bladder Cancer   \n",
       "4        5        IMM167                          Immune Deficiency Disease   \n",
       "...    ...   ...     ...                                                ...   \n",
       "7255  2416        MCR375                    Macrophage or Histiocytic Tumor   \n",
       "7256  2417        CNS014                   Constitutional Deficiency Anemia   \n",
       "7257  2418        QNT001  Quantitative and/or Qualitative Congenital Pha...   \n",
       "7258  2419        SCK008                      Sickle Delta Beta Thalassemia   \n",
       "7259  2420        AMN017  Aminolevulinic Acid Dehydratase Deficiency Por...   \n",
       "\n",
       "      Value                                           Link URL  \n",
       "0     89.11                       /card/leukemia_acute_myeloid  \n",
       "1     87.43       /card/fanconi_anemia_complementation_group_a  \n",
       "2     86.30                      /card/ataxia_telangiectasia_2  \n",
       "3     85.79                               /card/bladder_cancer  \n",
       "4     84.19                    /card/immune_deficiency_disease  \n",
       "...     ...                                                ...  \n",
       "7255   2.80              /card/macrophage_or_histiocytic_tumor  \n",
       "7256   2.80             /card/constitutional_deficiency_anemia  \n",
       "7257   2.80  /card/quantitative_and_or_qualitative_congenit...  \n",
       "7258   2.10                /card/sickle_delta_beta_thalassemia  \n",
       "7259   2.10  /card/aminolevulinic_acid_dehydratase_deficien...  \n",
       "\n",
       "[7260 rows x 6 columns]"
      ]
     },
     "execution_count": 25,
     "metadata": {},
     "output_type": "execute_result"
    }
   ],
   "source": [
    "df"
   ]
  },
  {
   "cell_type": "code",
   "execution_count": 27,
   "metadata": {},
   "outputs": [],
   "source": [
    "df = df.drop_duplicates()"
   ]
  },
  {
   "cell_type": "code",
   "execution_count": 28,
   "metadata": {},
   "outputs": [
    {
     "name": "stderr",
     "output_type": "stream",
     "text": [
      "/var/folders/t3/bdhn2hj15377j15xf0l7j3lw0000gn/T/ipykernel_93124/3854088445.py:1: SettingWithCopyWarning: \n",
      "A value is trying to be set on a copy of a slice from a DataFrame.\n",
      "Try using .loc[row_indexer,col_indexer] = value instead\n",
      "\n",
      "See the caveats in the documentation: https://pandas.pydata.org/pandas-docs/stable/user_guide/indexing.html#returning-a-view-versus-a-copy\n",
      "  df['type'] = 'blood'\n"
     ]
    }
   ],
   "source": [
    "df['type'] = 'blood'"
   ]
  },
  {
   "cell_type": "code",
   "execution_count": 29,
   "metadata": {},
   "outputs": [
    {
     "name": "stderr",
     "output_type": "stream",
     "text": [
      "/var/folders/t3/bdhn2hj15377j15xf0l7j3lw0000gn/T/ipykernel_93124/2421555048.py:1: SettingWithCopyWarning: \n",
      "A value is trying to be set on a copy of a slice from a DataFrame.\n",
      "Try using .loc[row_indexer,col_indexer] = value instead\n",
      "\n",
      "See the caveats in the documentation: https://pandas.pydata.org/pandas-docs/stable/user_guide/indexing.html#returning-a-view-versus-a-copy\n",
      "  df['Value'] = pd.to_numeric(df['Value'], errors='coerce')\n"
     ]
    }
   ],
   "source": [
    "df['Value'] = pd.to_numeric(df['Value'], errors='coerce')"
   ]
  },
  {
   "cell_type": "code",
   "execution_count": 37,
   "metadata": {},
   "outputs": [],
   "source": [
    "df_blood = df[df['Value'] > 75]"
   ]
  },
  {
   "cell_type": "code",
   "execution_count": null,
   "metadata": {},
   "outputs": [],
   "source": []
  }
 ],
 "metadata": {
  "kernelspec": {
   "display_name": "base",
   "language": "python",
   "name": "python3"
  },
  "language_info": {
   "codemirror_mode": {
    "name": "ipython",
    "version": 3
   },
   "file_extension": ".py",
   "mimetype": "text/x-python",
   "name": "python",
   "nbconvert_exporter": "python",
   "pygments_lexer": "ipython3",
   "version": "3.11.0"
  }
 },
 "nbformat": 4,
 "nbformat_minor": 2
}
